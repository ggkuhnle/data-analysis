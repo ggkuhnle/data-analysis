{
 "cells": [
  {
   "cell_type": "markdown",
   "id": "d1ed0523",
   "metadata": {},
   "source": [
    "# 📈 Visualising Hippo Data – Plots and Patterns\n",
    "\n",
    "In this session, we’ll explore how to visualise our data to reveal patterns, distributions, and group differences.\n",
    "\n",
    "**Objectives:**\n",
    "- Create bar plots, box plots, and histograms\n",
    "- Use `seaborn` and `matplotlib`\n",
    "- Explore visual differences in weight and height by sex and habitat"
   ]
  },
  {
   "cell_type": "markdown",
   "id": "a98c1aac",
   "metadata": {},
   "source": [
    "## 📥 Load the Data and Plotting Tools"
   ]
  },
  {
   "cell_type": "code",
   "execution_count": null,
   "id": "8928dbd9",
   "metadata": {},
   "outputs": [],
   "source": [
    "import pandas as pd\n",
    "import seaborn as sns\n",
    "import matplotlib.pyplot as plt\n",
    "\n",
    "df = pd.read_csv('https://raw.githubusercontent.com/ggkuhnle/data-analysis/main/data/hippos_cleaned.csv')  # update path as needed\n",
    "\n",
    "# Make plots look a bit nicer\n",
    "sns.set(style='whitegrid')"
   ]
  },
  {
   "cell_type": "markdown",
   "id": "a1a33865",
   "metadata": {},
   "source": [
    "## 📊 Bar Plot – Average Weight by Sex"
   ]
  },
  {
   "cell_type": "code",
   "execution_count": null,
   "id": "2e36d929",
   "metadata": {},
   "outputs": [],
   "source": [
    "sns.barplot(data=df, x='Sex', y='Weight_kg')\n",
    "plt.title('Average Weight of Hippos by Sex')\n",
    "plt.ylabel('Weight (kg)')\n",
    "plt.show()"
   ]
  },
  {
   "cell_type": "markdown",
   "id": "c3896d4f",
   "metadata": {},
   "source": [
    "## 📦 Box Plot – Weight Distribution by Habitat"
   ]
  },
  {
   "cell_type": "code",
   "execution_count": null,
   "id": "c5614003",
   "metadata": {},
   "outputs": [],
   "source": [
    "sns.boxplot(data=df, x='Habitat', y='Weight_kg')\n",
    "plt.title('Weight of Hippos by Habitat')\n",
    "plt.ylabel('Weight (kg)')\n",
    "plt.show()"
   ]
  },
  {
   "cell_type": "markdown",
   "id": "a5bbc408",
   "metadata": {},
   "source": [
    "## 🧮 Histogram – Hippo Height Distribution"
   ]
  },
  {
   "cell_type": "code",
   "execution_count": null,
   "id": "41e4e300",
   "metadata": {},
   "outputs": [],
   "source": [
    "sns.histplot(df['Height_cm'], bins=5, kde=True)\n",
    "plt.title('Distribution of Hippo Heights')\n",
    "plt.xlabel('Height (cm)')\n",
    "plt.show()"
   ]
  },
  {
   "cell_type": "markdown",
   "id": "50cc21d8",
   "metadata": {},
   "source": [
    "## 🎨 Box Plot – Height by Sex"
   ]
  },
  {
   "cell_type": "code",
   "execution_count": null,
   "id": "e8059c6b",
   "metadata": {},
   "outputs": [],
   "source": [
    "sns.boxplot(data=df, x='Sex', y='Height_cm')\n",
    "plt.title('Height of Hippos by Sex')\n",
    "plt.ylabel('Height (cm)')\n",
    "plt.show()"
   ]
  },
  {
   "cell_type": "markdown",
   "id": "e7151315",
   "metadata": {},
   "source": [
    "## 🧠 Scatter Plot – Height vs Weight"
   ]
  },
  {
   "cell_type": "code",
   "execution_count": null,
   "id": "2e5598c8",
   "metadata": {},
   "outputs": [],
   "source": [
    "sns.scatterplot(data=df, x='Height_cm', y='Weight_kg', hue='Sex', style='Habitat')\n",
    "plt.title('Hippo Height vs Weight')\n",
    "plt.show()"
   ]
  },
  {
   "cell_type": "markdown",
   "id": "36d59403",
   "metadata": {},
   "source": [
    "## ✅ Summary – What You Learned\n",
    "- Used `seaborn` and `matplotlib` to create different plot types\n",
    "- Compared groups visually (sex, habitat)\n",
    "- Saw how distribution and relationships can be explored using plots\n",
    "\n",
    "Next session: **Statistical testing** – can we say these differences are real or just random? 🦛"
   ]
  }
 ],
 "metadata": {},
 "nbformat": 4,
 "nbformat_minor": 5
}

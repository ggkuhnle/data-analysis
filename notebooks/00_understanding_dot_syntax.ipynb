{
 "cells": [
  {
   "cell_type": "markdown",
   "id": "a6ff05ce",
   "metadata": {},
   "source": [
    "# 🧠 Functions, Objects, and Dots: Understanding Python Syntax\n",
    "\n",
    "You’ve probably seen lines like `df.head()` or `text.upper()`.\n",
    "But what do the dot and the brackets mean?\n",
    "\n",
    "**In this notebook, we’ll learn:**\n",
    "- What objects are\n",
    "- What functions are\n",
    "- Why we write things like `something.function()`\n",
    "- The difference between functions and methods"
   ]
  },
  {
   "cell_type": "markdown",
   "id": "818e874a",
   "metadata": {},
   "source": [
    "## 📦 What Is an Object?"
   ]
  },
  {
   "cell_type": "code",
   "execution_count": null,
   "id": "c299ad77",
   "metadata": {},
   "outputs": [],
   "source": [
    "# This is a string – it’s a type of object\n",
    "word = 'hippo'\n",
    "# We can call a method (a function that belongs to this object)\n",
    "word_upper = word.upper()\n",
    "print(word_upper)"
   ]
  },
  {
   "cell_type": "markdown",
   "id": "855b4c7c",
   "metadata": {},
   "source": [
    "## 🛠️ What Is a Method?"
   ]
  },
  {
   "cell_type": "code",
   "execution_count": null,
   "id": "1ff4d66c",
   "metadata": {},
   "outputs": [],
   "source": [
    "# .upper() is a method – a function attached to an object\n",
    "# Here’s another method for strings\n",
    "print(word.replace('h', 'z'))"
   ]
  },
  {
   "cell_type": "markdown",
   "id": "bebe3682",
   "metadata": {},
   "source": [
    "## 🔍 Objects Have Attributes Too"
   ]
  },
  {
   "cell_type": "code",
   "execution_count": null,
   "id": "fe5e87cb",
   "metadata": {},
   "outputs": [],
   "source": [
    "numbers = [3, 6, 9, 12]\n",
    "# This is a list – also an object!\n",
    "print('Number of items:', len(numbers))  # using a function\n",
    "numbers.append(15)  # using a method\n",
    "print(numbers)"
   ]
  },
  {
   "cell_type": "markdown",
   "id": "5dbf3435",
   "metadata": {},
   "source": [
    "## 🐼 What About DataFrames?"
   ]
  },
  {
   "cell_type": "code",
   "execution_count": null,
   "id": "fb578e4b",
   "metadata": {},
   "outputs": [],
   "source": [
    "import pandas as pd\n",
    "\n",
    "df = pd.DataFrame({\n",
    "    'Name': ['Hugo', 'Fiona', 'George'],\n",
    "    'Weight_kg': [1500, 1400, 1450]\n",
    "})\n",
    "\n",
    "df.head()  # head() is a method of the DataFrame object"
   ]
  },
  {
   "cell_type": "markdown",
   "id": "98389e6d",
   "metadata": {},
   "source": [
    "## 📋 Why Use Dot Notation?"
   ]
  },
  {
   "cell_type": "code",
   "execution_count": null,
   "id": "19a53871",
   "metadata": {},
   "outputs": [],
   "source": [
    "# Dot notation lets us apply functions that are specific to that type of object\n",
    "# Different objects have different methods\n",
    "text = 'hippo'\n",
    "numbers = [1, 2, 3]\n",
    "\n",
    "print(text.upper())       # works on strings\n",
    "numbers.append(4)         # works on lists\n",
    "print(numbers)"
   ]
  },
  {
   "cell_type": "markdown",
   "id": "88a0ebad",
   "metadata": {},
   "source": [
    "## 💬 Summary – What You Learned\n",
    "- Python has objects like strings, lists, and DataFrames\n",
    "- Objects can have **methods** (functions that belong to them)\n",
    "- We use dot syntax: `object.method()`\n",
    "- You can also use functions like `len()` and `print()` which are not methods\n",
    "\n",
    "Understanding dot syntax helps you read and write better Python code!"
   ]
  }
 ],
 "metadata": {},
 "nbformat": 4,
 "nbformat_minor": 5
}

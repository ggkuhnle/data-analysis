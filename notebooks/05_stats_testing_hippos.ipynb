{
 "cells": [
  {
   "cell_type": "markdown",
   "id": "f58d223d",
   "metadata": {},
   "source": [
    "# 🧪 Statistical Testing with Hippos\n",
    "\n",
    "In this session, we’ll go beyond describing and plotting—we’ll test whether group differences are **statistically significant**.\n",
    "\n",
    "**Objectives:**\n",
    "- Understand what hypothesis testing means\n",
    "- Run a t-test and ANOVA\n",
    "- Use chi-squared tests for categorical data\n",
    "- Fit a simple linear regression model"
   ]
  },
  {
   "cell_type": "markdown",
   "id": "a2cb4023",
   "metadata": {},
   "source": [
    "## 📥 Load Data and Stats Tools"
   ]
  },
  {
   "cell_type": "code",
   "execution_count": null,
   "id": "e4237ead",
   "metadata": {},
   "outputs": [],
   "source": [
    "import pandas as pd\n",
    "import scipy.stats as stats\n",
    "import statsmodels.api as sm\n",
    "import statsmodels.formula.api as smf\n",
    "\n",
    "df = pd.read_csv('https://raw.githubusercontent.com/ggkuhnle/data-analysis/main/data/hippos_cleaned.csv')  # update path\n",
    "df.head()"
   ]
  },
  {
   "cell_type": "markdown",
   "id": "e30478ac",
   "metadata": {},
   "source": [
    "## 📏 T-test – Weight by Sex"
   ]
  },
  {
   "cell_type": "code",
   "execution_count": null,
   "id": "3bdf343d",
   "metadata": {},
   "outputs": [],
   "source": [
    "# Separate groups\n",
    "male = df[df['Sex'] == 'Male']['Weight_kg']\n",
    "female = df[df['Sex'] == 'Female']['Weight_kg']\n",
    "\n",
    "t_stat, p_value = stats.ttest_ind(male, female)\n",
    "print(f\"T-statistic: {t_stat:.3f}, P-value: {p_value:.3f}\")"
   ]
  },
  {
   "cell_type": "markdown",
   "id": "e170a1fa",
   "metadata": {},
   "source": [
    "## 📚 ANOVA – Height by Habitat"
   ]
  },
  {
   "cell_type": "code",
   "execution_count": null,
   "id": "a78ea274",
   "metadata": {},
   "outputs": [],
   "source": [
    "model = smf.ols('Height_cm ~ C(Habitat)', data=df).fit()\n",
    "anova_table = sm.stats.anova_lm(model, typ=2)\n",
    "anova_table"
   ]
  },
  {
   "cell_type": "markdown",
   "id": "339dfa1a",
   "metadata": {},
   "source": [
    "## 🔢 Chi-Squared – Sex and Habitat"
   ]
  },
  {
   "cell_type": "code",
   "execution_count": null,
   "id": "320e1c26",
   "metadata": {},
   "outputs": [],
   "source": [
    "contingency = pd.crosstab(df['Sex'], df['Habitat'])\n",
    "chi2, p, dof, expected = stats.chi2_contingency(contingency)\n",
    "print(f\"Chi-squared: {chi2:.2f}, P-value: {p:.3f}\")"
   ]
  },
  {
   "cell_type": "markdown",
   "id": "39ddc2f8",
   "metadata": {},
   "source": [
    "## 📈 Regression – Predict Weight from Height"
   ]
  },
  {
   "cell_type": "code",
   "execution_count": null,
   "id": "01994eab",
   "metadata": {},
   "outputs": [],
   "source": [
    "reg_model = smf.ols('Weight_kg ~ Height_cm', data=df).fit()\n",
    "print(reg_model.summary())"
   ]
  },
  {
   "cell_type": "markdown",
   "id": "24a95179",
   "metadata": {},
   "source": [
    "## ✅ Summary – What You Learned\n",
    "- Used `scipy.stats` for t-tests and chi-squared\n",
    "- Used `statsmodels` for ANOVA and regression\n",
    "- Learned that p-values help us judge whether differences are likely due to chance\n",
    "\n",
    "Next time: we wrap it all up with a mini-project – your chance to explore your own hippo (or other) data! 🦛"
   ]
  }
 ],
 "metadata": {},
 "nbformat": 4,
 "nbformat_minor": 5
}

{
 "cells": [
  {
   "cell_type": "markdown",
   "id": "c81766e0",
   "metadata": {},
   "source": [
    "# 🧪 Statistical Testing with Hippos (Enhanced)\n",
    "\n",
    "In this enhanced session, we'll add visualisation and interpretation to our statistical testing.\n",
    "\n",
    "**Objectives:**\n",
    "- Run t-tests, ANOVA, and chi-squared tests\n",
    "- Fit a linear regression model\n",
    "- Use plots to interpret results\n",
    "- Show 95% confidence intervals\n"
   ]
  },
  {
   "cell_type": "markdown",
   "id": "54760d39",
   "metadata": {},
   "source": [
    "## 📥 Load Data and Stats Tools"
   ]
  },
  {
   "cell_type": "code",
   "execution_count": null,
   "id": "061843aa",
   "metadata": {},
   "outputs": [],
   "source": [
    "import pandas as pd\n",
    "import scipy.stats as stats\n",
    "import statsmodels.api as sm\n",
    "import statsmodels.formula.api as smf\n",
    "import seaborn as sns\n",
    "import matplotlib.pyplot as plt\n",
    "\n",
    "df = pd.read_csv('https://raw.githubusercontent.com/ggkuhnle/data-analysis/main/data/hippos_cleaned.csv')\n",
    "df.head()"
   ]
  },
  {
   "cell_type": "markdown",
   "id": "4f649a4a",
   "metadata": {},
   "source": [
    "## 📏 T-test – Weight by Sex"
   ]
  },
  {
   "cell_type": "code",
   "execution_count": null,
   "id": "2ed9094f",
   "metadata": {},
   "outputs": [],
   "source": [
    "# Separate groups\n",
    "male = df[df['Sex'] == 'Male']['Weight_kg']\n",
    "female = df[df['Sex'] == 'Female']['Weight_kg']\n",
    "\n",
    "t_stat, p_value = stats.ttest_ind(male, female)\n",
    "print(f\"T-statistic: {t_stat:.3f}, P-value: {p_value:.3f}\")"
   ]
  },
  {
   "cell_type": "code",
   "execution_count": null,
   "id": "6b493463",
   "metadata": {},
   "outputs": [],
   "source": [
    "sns.catplot(data=df, x='Sex', y='Weight_kg', kind='strip', jitter=True)\n",
    "plt.title('Hippo Weight by Sex')\n",
    "plt.ylabel('Weight (kg)')\n",
    "plt.show()"
   ]
  },
  {
   "cell_type": "markdown",
   "id": "fb9ffe67",
   "metadata": {},
   "source": [
    "## 📚 ANOVA – Height by Habitat"
   ]
  },
  {
   "cell_type": "code",
   "execution_count": null,
   "id": "56a6718b",
   "metadata": {},
   "outputs": [],
   "source": [
    "model = smf.ols('Height_cm ~ C(Habitat)', data=df).fit()\n",
    "anova_table = sm.stats.anova_lm(model, typ=2)\n",
    "anova_table"
   ]
  },
  {
   "cell_type": "code",
   "execution_count": null,
   "id": "3396f109",
   "metadata": {},
   "outputs": [],
   "source": [
    "sns.boxplot(data=df, x='Habitat', y='Height_cm')\n",
    "plt.title('Hippo Height by Habitat')\n",
    "plt.ylabel('Height (cm)')\n",
    "plt.show()"
   ]
  },
  {
   "cell_type": "markdown",
   "id": "d591c14b",
   "metadata": {},
   "source": [
    "## 🔢 Chi-Squared – Sex and Habitat"
   ]
  },
  {
   "cell_type": "code",
   "execution_count": null,
   "id": "9fc6a318",
   "metadata": {},
   "outputs": [],
   "source": [
    "contingency = pd.crosstab(df['Sex'], df['Habitat'])\n",
    "chi2, p, dof, expected = stats.chi2_contingency(contingency)\n",
    "print(f\"Chi-squared: {chi2:.2f}, P-value: {p:.3f}\")"
   ]
  },
  {
   "cell_type": "markdown",
   "id": "7903ddf7",
   "metadata": {},
   "source": [
    "## 📈 Regression – Predict Weight from Height"
   ]
  },
  {
   "cell_type": "code",
   "execution_count": null,
   "id": "4ba33734",
   "metadata": {},
   "outputs": [],
   "source": [
    "reg_model = smf.ols('Weight_kg ~ Height_cm', data=df).fit()\n",
    "print(reg_model.summary())"
   ]
  },
  {
   "cell_type": "code",
   "execution_count": null,
   "id": "aec1cbda",
   "metadata": {},
   "outputs": [],
   "source": [
    "sns.lmplot(data=df, x='Height_cm', y='Weight_kg', ci=95, line_kws={'color': 'red'})\n",
    "plt.title('Regression: Weight vs Height with 95% CI')\n",
    "plt.show()"
   ]
  },
  {
   "cell_type": "markdown",
   "id": "8863e387",
   "metadata": {},
   "source": [
    "## ✅ Summary – What You Learned\n",
    "- T-tests and ANOVA compare means between groups\n",
    "- Chi-squared tests assess associations between categories\n",
    "- Regression models predict numerical outcomes and provide confidence intervals\n",
    "- Visualisation helps interpret results effectively\n",
    "\n",
    "You are now ready for the mini-project—or a deeper dive into distributions, transformations, and model interpretation! 🦛"
   ]
  }
 ],
 "metadata": {},
 "nbformat": 4,
 "nbformat_minor": 5
}

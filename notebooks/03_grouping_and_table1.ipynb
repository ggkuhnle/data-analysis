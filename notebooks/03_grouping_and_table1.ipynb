{
 "cells": [
  {
   "cell_type": "markdown",
   "id": "af46d138",
   "metadata": {},
   "source": [
    "# 📊 Exploring Hippo Data – Summarise and Compare\n",
    "\n",
    "In this session, we'll learn how to group data and create simple summaries. You’ll also build your first version of a classic **Table 1** (descriptive summary by group).\n",
    "\n",
    "**Objectives:**\n",
    "- Group data with `groupby()`\n",
    "- Calculate means, counts, and distributions\n",
    "- Compare groups (e.g. Male vs Female hippos)\n",
    "- Create a 'Table 1'-style summary"
   ]
  },
  {
   "cell_type": "markdown",
   "id": "6a73c7fc",
   "metadata": {},
   "source": [
    "## 📥 Load the Clean Hippo Dataset"
   ]
  },
  {
   "cell_type": "code",
   "execution_count": null,
   "id": "c5093611",
   "metadata": {},
   "outputs": [],
   "source": [
    "import pandas as pd\n",
    "\n",
    "df = pd.read_csv('https://raw.githubusercontent.com/ggkuhnle/data-analysis/main/data/hippos_cleaned.csv')  # replace with your GitHub path\n",
    "df"
   ]
  },
  {
   "cell_type": "markdown",
   "id": "1017731d",
   "metadata": {},
   "source": [
    "## 👀 Quick Look at the Data"
   ]
  },
  {
   "cell_type": "code",
   "execution_count": null,
   "id": "7fecaa77",
   "metadata": {},
   "outputs": [],
   "source": [
    "df.info()\n",
    "df.describe()"
   ]
  },
  {
   "cell_type": "markdown",
   "id": "9fb8d272",
   "metadata": {},
   "source": [
    "## 📏 Average Weight by Sex"
   ]
  },
  {
   "cell_type": "code",
   "execution_count": null,
   "id": "78bc7498",
   "metadata": {},
   "outputs": [],
   "source": [
    "df.groupby('Sex')['Weight_kg'].mean()"
   ]
  },
  {
   "cell_type": "markdown",
   "id": "09f9e16b",
   "metadata": {},
   "source": [
    "## 🧠 Multiple Summaries by Group"
   ]
  },
  {
   "cell_type": "code",
   "execution_count": null,
   "id": "75e168ba",
   "metadata": {},
   "outputs": [],
   "source": [
    "df.groupby('Sex').agg({\n",
    "    'Weight_kg': ['mean', 'std'],\n",
    "    'Height_cm': ['mean', 'std'],\n",
    "})"
   ]
  },
  {
   "cell_type": "markdown",
   "id": "8f6014d9",
   "metadata": {},
   "source": [
    "## 📋 Value Counts – Habitat Distribution"
   ]
  },
  {
   "cell_type": "code",
   "execution_count": null,
   "id": "0491c5bc",
   "metadata": {},
   "outputs": [],
   "source": [
    "df['Habitat'].value_counts()"
   ]
  },
  {
   "cell_type": "markdown",
   "id": "17ae6164",
   "metadata": {},
   "source": [
    "## 🔍 Crosstab – Habitat by Sex"
   ]
  },
  {
   "cell_type": "code",
   "execution_count": null,
   "id": "dd749b4d",
   "metadata": {},
   "outputs": [],
   "source": [
    "pd.crosstab(df['Habitat'], df['Sex'])"
   ]
  },
  {
   "cell_type": "markdown",
   "id": "fae27b98",
   "metadata": {},
   "source": [
    "## 🧾 Build a Simple Table 1"
   ]
  },
  {
   "cell_type": "code",
   "execution_count": null,
   "id": "43f6240b",
   "metadata": {},
   "outputs": [],
   "source": [
    "summary = df.groupby('Sex').agg(\n",
    "    Weight_mean=('Weight_kg', 'mean'),\n",
    "    Weight_sd=('Weight_kg', 'std'),\n",
    "    Height_mean=('Height_cm', 'mean'),\n",
    "    Height_sd=('Height_cm', 'std'),\n",
    "    Count=('Name', 'count')\n",
    ")\n",
    "summary"
   ]
  },
  {
   "cell_type": "markdown",
   "id": "9907ef7f",
   "metadata": {},
   "source": [
    "## ✅ Summary – What You Learned\n",
    "- Used `groupby()` and `agg()` to summarise data\n",
    "- Compared average weight and height between groups\n",
    "- Counted and crosstabbed categorical values\n",
    "- Built a summary table (Table 1)\n",
    "\n",
    "Next time, we’ll dive into how to **visualise** some of these differences using beautiful, informative plots! 🦛"
   ]
  }
 ],
 "metadata": {},
 "nbformat": 4,
 "nbformat_minor": 5
}

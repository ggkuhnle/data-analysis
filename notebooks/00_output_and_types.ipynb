{
 "cells": [
  {
   "cell_type": "markdown",
   "id": "4035a7a1",
   "metadata": {},
   "source": [
    "# 🧾 Output and Data Types in Python\n",
    "This notebook introduces how Python handles different types of data and how you can output results clearly and effectively."
   ]
  },
  {
   "cell_type": "markdown",
   "id": "156694a9",
   "metadata": {},
   "source": [
    "## 🖨️ Printing and Output"
   ]
  },
  {
   "cell_type": "code",
   "execution_count": null,
   "id": "533e5112",
   "metadata": {},
   "outputs": [],
   "source": [
    "print(\"Hello, world!\")"
   ]
  },
  {
   "cell_type": "code",
   "execution_count": null,
   "id": "51b6b5a8",
   "metadata": {},
   "outputs": [],
   "source": [
    "name = \"Hugo\"\n",
    "print(name)"
   ]
  },
  {
   "cell_type": "markdown",
   "id": "4ed2119d",
   "metadata": {},
   "source": [
    "## 💬 Using f-strings"
   ]
  },
  {
   "cell_type": "code",
   "execution_count": null,
   "id": "7c1b9e59",
   "metadata": {},
   "outputs": [],
   "source": [
    "hippo_weight = 1500\n",
    "print(f\"The hippo weighs {hippo_weight} kg\")"
   ]
  },
  {
   "cell_type": "markdown",
   "id": "40a9eb87",
   "metadata": {},
   "source": [
    "## 🧠 What Are Data Types?"
   ]
  },
  {
   "cell_type": "code",
   "execution_count": null,
   "id": "02392fd7",
   "metadata": {},
   "outputs": [],
   "source": [
    "x = 3.14\n",
    "print(type(x))"
   ]
  },
  {
   "cell_type": "markdown",
   "id": "cb60f4d0",
   "metadata": {},
   "source": [
    "## 🔢 Common Data Types"
   ]
  },
  {
   "cell_type": "code",
   "execution_count": null,
   "id": "ed48b9d2",
   "metadata": {},
   "outputs": [],
   "source": [
    "a = 42              # int\n",
    "b = 3.14            # float\n",
    "c = \"hippo\"        # string\n",
    "d = True            # boolean\n",
    "e = [1, 2, 3]       # list\n",
    "f = {\"name\": \"Fiona\", \"age\": 8}  # dictionary\n",
    "g = None            # NoneType\n",
    "\n",
    "print(type(a), type(b), type(c), type(d), type(e), type(f), type(g))"
   ]
  },
  {
   "cell_type": "markdown",
   "id": "2d710764",
   "metadata": {},
   "source": [
    "## 🔁 Converting Between Data Types"
   ]
  },
  {
   "cell_type": "code",
   "execution_count": null,
   "id": "08386b74",
   "metadata": {},
   "outputs": [],
   "source": [
    "int(\"5\")\n",
    "float(\"3.14\")\n",
    "str(1500)"
   ]
  },
  {
   "cell_type": "markdown",
   "id": "140105b4",
   "metadata": {},
   "source": [
    "## 🧪 Checking Types"
   ]
  },
  {
   "cell_type": "code",
   "execution_count": null,
   "id": "74b3f93a",
   "metadata": {},
   "outputs": [],
   "source": [
    "x = 3.14\n",
    "if isinstance(x, float):\n",
    "    print(\"x is a float\")"
   ]
  },
  {
   "cell_type": "markdown",
   "id": "ebe15319",
   "metadata": {},
   "source": [
    "## 📊 Data Types in `pandas`"
   ]
  },
  {
   "cell_type": "code",
   "execution_count": null,
   "id": "f69e33a7",
   "metadata": {},
   "outputs": [],
   "source": [
    "import pandas as pd\n",
    "\n",
    "df = pd.DataFrame({\n",
    "    'Name': ['Hugo', 'Fiona'],\n",
    "    'Weight': [1500, 1400]\n",
    "})\n",
    "\n",
    "print(df.dtypes)\n",
    "df['Weight'] = df['Weight'].astype(str)\n",
    "print(df.dtypes)"
   ]
  },
  {
   "cell_type": "markdown",
   "id": "0d44e9cb",
   "metadata": {},
   "source": [
    "## ✅ Summary\n",
    "- `print()` shows output on screen\n",
    "- f-strings format text and variables nicely\n",
    "- Python has multiple core data types like `int`, `float`, `str`, `list`, `dict`\n",
    "- Use `type()` and `isinstance()` to check types\n",
    "- Use `.astype()` in `pandas` to convert column types\n",
    "\n",
    "*Understanding and controlling data types helps avoid errors and improves clarity!* 🧠🐾"
   ]
  }
 ],
 "metadata": {},
 "nbformat": 4,
 "nbformat_minor": 5
}

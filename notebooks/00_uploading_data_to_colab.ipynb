{
 "cells": [
  {
   "cell_type": "markdown",
   "id": "9242f39b",
   "metadata": {},
   "source": [
    "# 📂 Uploading Data to Google Colab\n",
    "Sometimes your dataset is on your local computer and not on the web. This short example shows you how to upload a file (e.g., a CSV) directly to Colab."
   ]
  },
  {
   "cell_type": "markdown",
   "id": "f964a1bc",
   "metadata": {},
   "source": [
    "## 🔼 Step 1: Upload Your File"
   ]
  },
  {
   "cell_type": "code",
   "execution_count": null,
   "id": "130215e5",
   "metadata": {},
   "outputs": [],
   "source": [
    "from google.colab import files\n",
    "uploaded = files.upload()"
   ]
  },
  {
   "cell_type": "markdown",
   "id": "1c8f62b1",
   "metadata": {},
   "source": [
    "## 📖 Step 2: Load the File into a DataFrame"
   ]
  },
  {
   "cell_type": "code",
   "execution_count": null,
   "id": "a7719a6b",
   "metadata": {},
   "outputs": [],
   "source": [
    "# Replace 'your_file.csv' with the actual file name you uploaded\n",
    "import pandas as pd\n",
    "\n",
    "# This assumes you're uploading a CSV file\n",
    "df = pd.read_csv('your_file.csv')  # e.g. 'hippos_cleaned.csv'\n",
    "df.head()"
   ]
  },
  {
   "cell_type": "markdown",
   "id": "21415e08",
   "metadata": {},
   "source": [
    "## 💡 Notes\n",
    "- This file is only stored **temporarily**.\n",
    "- If your session ends or restarts, the file will disappear.\n",
    "- For persistent storage, you can use **Google Drive** (ask if you want to learn how).\n",
    "\n",
    "This method is ideal for one-off file uploads or short tasks."
   ]
  }
 ],
 "metadata": {},
 "nbformat": 4,
 "nbformat_minor": 5
}

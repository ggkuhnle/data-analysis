{
 "cells": [
  {
   "cell_type": "markdown",
   "id": "692848ce",
   "metadata": {},
   "source": [
    "# 🧹 Working with Tables: Meet the Hippos\n",
    "\n",
    "Today, we’ll work with a messy real-world dataset (it includes hippos!).\n",
    "We’ll learn how to:\n",
    "- Read data into a table using `pandas`\n",
    "- Inspect the data and spot common formatting issues\n",
    "- Clean up names, numbers, and categories\n",
    "- Create a tidy DataFrame ready for analysis"
   ]
  },
  {
   "cell_type": "markdown",
   "id": "f66d2e43",
   "metadata": {},
   "source": [
    "## 📥 Load the Data"
   ]
  },
  {
   "cell_type": "code",
   "execution_count": null,
   "id": "fae20c3d",
   "metadata": {},
   "outputs": [],
   "source": [
    "import pandas as pd\n",
    "\n",
    "df = pd.read_csv('https://raw.githubusercontent.com/ggkuhnle/data-analysis/main/data/messy_hippos.csv')  # update this if hosted elsewhere\n",
    "df"
   ]
  },
  {
   "cell_type": "markdown",
   "id": "af14d4f7",
   "metadata": {},
   "source": [
    "## 🔍 What’s Going On Here?"
   ]
  },
  {
   "cell_type": "code",
   "execution_count": null,
   "id": "d1195166",
   "metadata": {},
   "outputs": [],
   "source": [
    "# Let’s take a quick look\n",
    "df.info()"
   ]
  },
  {
   "cell_type": "markdown",
   "id": "a3931aa1",
   "metadata": {},
   "source": [
    "## ✨ Clean Up the Columns"
   ]
  },
  {
   "cell_type": "code",
   "execution_count": null,
   "id": "aa54ec9b",
   "metadata": {},
   "outputs": [],
   "source": [
    "# Strip extra spaces from column names\n",
    "df.columns = df.columns.str.strip()\n",
    "# Also fix column name casing and spelling\n",
    "df = df.rename(columns={'Name': 'Name', 'Weight (kg)': 'Weight_kg', 'height_cm': 'Height_cm'})\n",
    "df"
   ]
  },
  {
   "cell_type": "markdown",
   "id": "1d5b4ef7",
   "metadata": {},
   "source": [
    "## 🧼 Clean Individual Columns"
   ]
  },
  {
   "cell_type": "code",
   "execution_count": null,
   "id": "37c072a1",
   "metadata": {},
   "outputs": [],
   "source": [
    "# Remove extra spaces in names and fix inconsistencies\n",
    "df['Name'] = df['Name'].str.strip().str.capitalize()\n",
    "\n",
    "# Standardise species names\n",
    "df['species'] = df['species'].str.strip().str.lower().str.replace('hippos', 'hippo')\n",
    "\n",
    "# Clean Weight column: remove commas, strip, convert to numeric\n",
    "df['Weight_kg'] = pd.to_numeric(df['Weight_kg'].str.replace(',', '').str.strip(), errors='coerce')\n",
    "\n",
    "# Clean Height\n",
    "df['Height_cm'] = pd.to_numeric(df['Height_cm'], errors='coerce')\n",
    "\n",
    "# Standardise habitat names\n",
    "df['habitat'] = df['habitat'].str.strip().str.capitalize()\n",
    "\n",
    "df"
   ]
  },
  {
   "cell_type": "markdown",
   "id": "ed1894ab",
   "metadata": {},
   "source": [
    "## ❓ What’s Missing or Strange?"
   ]
  },
  {
   "cell_type": "code",
   "execution_count": null,
   "id": "d67b3253",
   "metadata": {},
   "outputs": [],
   "source": [
    "df.isna().sum()"
   ]
  },
  {
   "cell_type": "markdown",
   "id": "41c7adea",
   "metadata": {},
   "source": [
    "## 🧾 Summary of the Cleaned Dataset"
   ]
  },
  {
   "cell_type": "code",
   "execution_count": null,
   "id": "0b305a53",
   "metadata": {},
   "outputs": [],
   "source": [
    "df.describe(include='all')"
   ]
  },
  {
   "cell_type": "markdown",
   "id": "18885792",
   "metadata": {},
   "source": [
    "## ✅ Summary – What You’ve Learned Today\n",
    "- Read a CSV file into a `pandas` DataFrame\n",
    "- Spotted and fixed common issues: extra spaces, inconsistent labels, strange number formats\n",
    "- Used `.str.strip()`, `.replace()`, and `pd.to_numeric()` to clean columns\n",
    "- Checked for missing values with `.isna()`\n",
    "\n",
    "Next time, we’ll learn how to group and summarise data – like how much a typical hippo weighs, or what the average habitat height is! 🦛"
   ]
  }
 ],
 "metadata": {
  "kernelspec": {
   "display_name": "Python 3 (ipykernel)",
   "language": "python",
   "name": "python3"
  },
  "language_info": {
   "codemirror_mode": {
    "name": "ipython",
    "version": 3
   },
   "file_extension": ".py",
   "mimetype": "text/x-python",
   "name": "python",
   "nbconvert_exporter": "python",
   "pygments_lexer": "ipython3",
   "version": "3.9.6"
  }
 },
 "nbformat": 4,
 "nbformat_minor": 5
}

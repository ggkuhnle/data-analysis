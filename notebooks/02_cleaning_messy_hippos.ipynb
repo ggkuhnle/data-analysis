{
 "cells": [
  {
   "cell_type": "markdown",
   "id": "4a24641b",
   "metadata": {},
   "source": [
    "# 🧹 Working with Tables: Meet the Hippos\n",
    "Today, we’ll work with a messy real-world dataset (it includes hippos!).\n",
    "We’ll learn how to:\n",
    "- Read data into a table using `pandas`\n",
    "- Inspect and clean data\n",
    "- Handle formatting problems and inconsistent values\n",
    "- Deal with a common `.str` error"
   ]
  },
  {
   "cell_type": "markdown",
   "id": "948e4f93",
   "metadata": {},
   "source": [
    "## 📥 Load the Data"
   ]
  },
  {
   "cell_type": "code",
   "execution_count": null,
   "id": "9c0faba5",
   "metadata": {},
   "outputs": [],
   "source": [
    "import pandas as pd\n",
    "\n",
    "df = pd.read_csv('https://raw.githubusercontent.com/ggkuhnle/data-analysis/main/data/messy_hippos.csv')  # update this if hosted elsewhere\n",
    "df"
   ]
  },
  {
   "cell_type": "markdown",
   "id": "3f10cd88",
   "metadata": {},
   "source": [
    "## 🔍 Quick Look"
   ]
  },
  {
   "cell_type": "code",
   "execution_count": null,
   "id": "3787118c",
   "metadata": {},
   "outputs": [],
   "source": [
    "df.info()\n",
    "df.describe(include='all')"
   ]
  },
  {
   "cell_type": "markdown",
   "id": "8ebcf326",
   "metadata": {},
   "source": [
    "## ✨ Clean Up Column Names"
   ]
  },
  {
   "cell_type": "code",
   "execution_count": null,
   "id": "26cee539",
   "metadata": {},
   "outputs": [],
   "source": [
    "df.columns = df.columns.str.strip()\n",
    "df = df.rename(columns={'Weight (kg)': 'Weight_kg'})\n",
    "df.head()"
   ]
  },
  {
   "cell_type": "markdown",
   "id": "f04c20f4",
   "metadata": {},
   "source": [
    "## 🧽 Clean Text Columns"
   ]
  },
  {
   "cell_type": "code",
   "execution_count": null,
   "id": "e16576d2",
   "metadata": {},
   "outputs": [],
   "source": [
    "df['Name'] = df['Name'].str.strip().str.capitalize()\n",
    "df['species'] = df['species'].str.strip().str.lower().str.replace('hippos', 'hippo')"
   ]
  },
  {
   "cell_type": "markdown",
   "id": "c416d2c1",
   "metadata": {},
   "source": [
    "## ⚠️ A Common Error: `.str` on Non-Strings"
   ]
  },
  {
   "cell_type": "code",
   "execution_count": null,
   "id": "69f323e5",
   "metadata": {},
   "outputs": [],
   "source": [
    "# This will raise an error because not all values are strings:\n",
    "# Uncomment to try it:\n",
    "# df['Weight_kg'].str.replace(',', '')"
   ]
  },
  {
   "cell_type": "markdown",
   "id": "5a4780af",
   "metadata": {},
   "source": [
    "### ❗ Why this happens\n",
    "`.str` only works on strings, but some of your values might already be numbers or NaN.\n",
    "We can fix this by converting everything to a string **before** cleaning."
   ]
  },
  {
   "cell_type": "markdown",
   "id": "0d2e2852",
   "metadata": {},
   "source": [
    "## ✅ Fix the Weight Column Properly"
   ]
  },
  {
   "cell_type": "code",
   "execution_count": null,
   "id": "77488528",
   "metadata": {},
   "outputs": [],
   "source": [
    "df['Weight_kg'] = pd.to_numeric(df['Weight_kg'].astype(str).str.replace(',', '').str.strip(), errors='coerce')"
   ]
  },
  {
   "cell_type": "markdown",
   "id": "1774070b",
   "metadata": {},
   "source": [
    "## 🧮 Fix the Height Column"
   ]
  },
  {
   "cell_type": "code",
   "execution_count": null,
   "id": "1bc62bb2",
   "metadata": {},
   "outputs": [],
   "source": [
    "df['Height_cm'] = pd.to_numeric(df['height_cm'], errors='coerce')"
   ]
  },
  {
   "cell_type": "markdown",
   "id": "fe0abf6d",
   "metadata": {},
   "source": [
    "## 🌍 Tidy Up the Habitat"
   ]
  },
  {
   "cell_type": "code",
   "execution_count": null,
   "id": "4507a3a6",
   "metadata": {},
   "outputs": [],
   "source": [
    "df['habitat'] = df['habitat'].str.strip().str.capitalize()"
   ]
  },
  {
   "cell_type": "markdown",
   "id": "a02a74a2",
   "metadata": {},
   "source": [
    "## 🧾 Summary of the Cleaned Dataset"
   ]
  },
  {
   "cell_type": "code",
   "execution_count": null,
   "id": "b7e4c2ab",
   "metadata": {},
   "outputs": [],
   "source": [
    "df"
   ]
  },
  {
   "cell_type": "markdown",
   "id": "a32a13bc",
   "metadata": {},
   "source": [
    "## ✅ Summary\n",
    "- You read and cleaned a messy dataset\n",
    "- Fixed inconsistent text formatting\n",
    "- Converted mixed-type number columns to numeric safely\n",
    "- Learned how to debug the `.str` accessor error like a pro 🐾"
   ]
  }
 ],
 "metadata": {},
 "nbformat": 4,
 "nbformat_minor": 5
}

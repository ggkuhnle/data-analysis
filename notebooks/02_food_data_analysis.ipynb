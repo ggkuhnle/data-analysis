{
 "cells": [
  {
   "cell_type": "markdown",
   "id": "77c30935",
   "metadata": {},
   "source": [
    "# 🧪 Analysing Food Composition Data with pandas\n",
    "\n",
    "In this notebook, we'll work with a small food composition dataset. You'll learn how to:\n",
    "- Load a dataset using `pandas`\n",
    "- Explore and clean data\n",
    "- Calculate summary statistics\n",
    "- Create simple visualisations\n"
   ]
  },
  {
   "cell_type": "markdown",
   "id": "7eff0a28",
   "metadata": {},
   "source": [
    "## 📥 Load the Data"
   ]
  },
  {
   "cell_type": "code",
   "execution_count": null,
   "id": "7bde2291",
   "metadata": {},
   "outputs": [],
   "source": [
    "import pandas as pd\n",
    "import matplotlib.pyplot as plt\n",
    "import seaborn as sns\n",
    "\n",
    "# Load dataset (use your own path or upload to Colab if necessary)\n",
    "df = pd.read_csv('food_sample_data.csv')\n",
    "df"
   ]
  },
  {
   "cell_type": "markdown",
   "id": "a76e4b79",
   "metadata": {},
   "source": [
    "## 📊 Basic Exploration"
   ]
  },
  {
   "cell_type": "code",
   "execution_count": null,
   "id": "0b323d7b",
   "metadata": {},
   "outputs": [],
   "source": [
    "df.info()\n",
    "df.describe()"
   ]
  },
  {
   "cell_type": "markdown",
   "id": "ef8afb91",
   "metadata": {},
   "source": [
    "## 🍭 Visualise Sugar Content by Product"
   ]
  },
  {
   "cell_type": "code",
   "execution_count": null,
   "id": "79fdedcd",
   "metadata": {},
   "outputs": [],
   "source": [
    "plt.figure(figsize=(10, 5))\n",
    "sns.barplot(data=df, x='Product', y='Sugar_g')\n",
    "plt.title('Sugar Content per 100g/ml by Product')\n",
    "plt.ylabel('Sugar (g)')\n",
    "plt.xticks(rotation=45)\n",
    "plt.tight_layout()\n",
    "plt.show()"
   ]
  },
  {
   "cell_type": "markdown",
   "id": "fca7f160",
   "metadata": {},
   "source": [
    "## 📂 Mean Nutrient Content by Category"
   ]
  },
  {
   "cell_type": "code",
   "execution_count": null,
   "id": "e04cfd11",
   "metadata": {},
   "outputs": [],
   "source": [
    "df.groupby('Category')[['Energy_kcal', 'Sugar_g', 'Protein_g']].mean()"
   ]
  },
  {
   "cell_type": "markdown",
   "id": "6cb195b0",
   "metadata": {},
   "source": [
    "## ✅ Summary\n",
    "- You loaded and explored a simple food composition dataset\n",
    "- Used `pandas` for grouping and summary statistics\n",
    "- Created bar plots using `matplotlib` and `seaborn`\n",
    "\n",
    "This type of analysis is useful in both public health and food product development contexts."
   ]
  }
 ],
 "metadata": {},
 "nbformat": 4,
 "nbformat_minor": 5
}

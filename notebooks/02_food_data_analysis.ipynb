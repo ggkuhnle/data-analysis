{
 "cells": [
  {
   "cell_type": "markdown",
   "id": "77c30935",
   "metadata": {},
   "source": [
    "# 🧪 Analysing Food Composition Data with pandas\n",
    "\n",
    "In this notebook, we'll work with a small food composition dataset. You'll learn how to:\n",
    "- Load a dataset using `pandas`\n",
    "- Explore and clean data\n",
    "- Calculate summary statistics\n",
    "- Create simple visualisations\n"
   ]
  },
  {
   "cell_type": "markdown",
   "id": "7eff0a28",
   "metadata": {},
   "source": [
    "## 📥 Load the Data"
   ]
  },
  {
   "cell_type": "code",
   "execution_count": 1,
   "id": "7bde2291",
   "metadata": {},
   "outputs": [
    {
     "data": {
      "text/html": [
       "<div>\n",
       "<style scoped>\n",
       "    .dataframe tbody tr th:only-of-type {\n",
       "        vertical-align: middle;\n",
       "    }\n",
       "\n",
       "    .dataframe tbody tr th {\n",
       "        vertical-align: top;\n",
       "    }\n",
       "\n",
       "    .dataframe thead th {\n",
       "        text-align: right;\n",
       "    }\n",
       "</style>\n",
       "<table border=\"1\" class=\"dataframe\">\n",
       "  <thead>\n",
       "    <tr style=\"text-align: right;\">\n",
       "      <th></th>\n",
       "      <th>SampleID</th>\n",
       "      <th>Product</th>\n",
       "      <th>Energy_kcal</th>\n",
       "      <th>Sugar_g</th>\n",
       "      <th>Protein_g</th>\n",
       "      <th>Category</th>\n",
       "    </tr>\n",
       "  </thead>\n",
       "  <tbody>\n",
       "    <tr>\n",
       "      <th>0</th>\n",
       "      <td>101</td>\n",
       "      <td>Bread</td>\n",
       "      <td>265</td>\n",
       "      <td>4.5</td>\n",
       "      <td>9.0</td>\n",
       "      <td>Grain</td>\n",
       "    </tr>\n",
       "    <tr>\n",
       "      <th>1</th>\n",
       "      <td>102</td>\n",
       "      <td>Cereal</td>\n",
       "      <td>379</td>\n",
       "      <td>22.0</td>\n",
       "      <td>8.0</td>\n",
       "      <td>Grain</td>\n",
       "    </tr>\n",
       "    <tr>\n",
       "      <th>2</th>\n",
       "      <td>103</td>\n",
       "      <td>Milk</td>\n",
       "      <td>42</td>\n",
       "      <td>5.0</td>\n",
       "      <td>3.4</td>\n",
       "      <td>Dairy</td>\n",
       "    </tr>\n",
       "    <tr>\n",
       "      <th>3</th>\n",
       "      <td>104</td>\n",
       "      <td>Yogurt</td>\n",
       "      <td>61</td>\n",
       "      <td>6.1</td>\n",
       "      <td>5.0</td>\n",
       "      <td>Dairy</td>\n",
       "    </tr>\n",
       "    <tr>\n",
       "      <th>4</th>\n",
       "      <td>105</td>\n",
       "      <td>Orange Juice</td>\n",
       "      <td>45</td>\n",
       "      <td>8.4</td>\n",
       "      <td>0.7</td>\n",
       "      <td>Fruit</td>\n",
       "    </tr>\n",
       "  </tbody>\n",
       "</table>\n",
       "</div>"
      ],
      "text/plain": [
       "   SampleID       Product  Energy_kcal  Sugar_g  Protein_g Category\n",
       "0       101         Bread          265      4.5        9.0    Grain\n",
       "1       102        Cereal          379     22.0        8.0    Grain\n",
       "2       103          Milk           42      5.0        3.4    Dairy\n",
       "3       104        Yogurt           61      6.1        5.0    Dairy\n",
       "4       105  Orange Juice           45      8.4        0.7    Fruit"
      ]
     },
     "execution_count": 1,
     "metadata": {},
     "output_type": "execute_result"
    }
   ],
   "source": [
    "import pandas as pd\n",
    "import matplotlib.pyplot as plt\n",
    "import seaborn as sns\n",
    "\n",
    "# Load dataset (use your own path or upload to Colab if necessary)\n",
    "df = pd.read_csv('https://raw.githubusercontent.com/ggkuhnle/data-analysis/main/data/food_sample_data.csv')\n",
    "df"
   ]
  },
  {
   "cell_type": "markdown",
   "id": "a76e4b79",
   "metadata": {},
   "source": [
    "## 📊 Basic Exploration"
   ]
  },
  {
   "cell_type": "code",
   "execution_count": 2,
   "id": "0b323d7b",
   "metadata": {},
   "outputs": [
    {
     "name": "stdout",
     "output_type": "stream",
     "text": [
      "<class 'pandas.core.frame.DataFrame'>\n",
      "RangeIndex: 5 entries, 0 to 4\n",
      "Data columns (total 6 columns):\n",
      " #   Column       Non-Null Count  Dtype  \n",
      "---  ------       --------------  -----  \n",
      " 0   SampleID     5 non-null      int64  \n",
      " 1   Product      5 non-null      object \n",
      " 2   Energy_kcal  5 non-null      int64  \n",
      " 3   Sugar_g      5 non-null      float64\n",
      " 4   Protein_g    5 non-null      float64\n",
      " 5   Category     5 non-null      object \n",
      "dtypes: float64(2), int64(2), object(2)\n",
      "memory usage: 368.0+ bytes\n"
     ]
    },
    {
     "data": {
      "text/html": [
       "<div>\n",
       "<style scoped>\n",
       "    .dataframe tbody tr th:only-of-type {\n",
       "        vertical-align: middle;\n",
       "    }\n",
       "\n",
       "    .dataframe tbody tr th {\n",
       "        vertical-align: top;\n",
       "    }\n",
       "\n",
       "    .dataframe thead th {\n",
       "        text-align: right;\n",
       "    }\n",
       "</style>\n",
       "<table border=\"1\" class=\"dataframe\">\n",
       "  <thead>\n",
       "    <tr style=\"text-align: right;\">\n",
       "      <th></th>\n",
       "      <th>SampleID</th>\n",
       "      <th>Energy_kcal</th>\n",
       "      <th>Sugar_g</th>\n",
       "      <th>Protein_g</th>\n",
       "    </tr>\n",
       "  </thead>\n",
       "  <tbody>\n",
       "    <tr>\n",
       "      <th>count</th>\n",
       "      <td>5.000000</td>\n",
       "      <td>5.000000</td>\n",
       "      <td>5.000000</td>\n",
       "      <td>5.00000</td>\n",
       "    </tr>\n",
       "    <tr>\n",
       "      <th>mean</th>\n",
       "      <td>103.000000</td>\n",
       "      <td>158.400000</td>\n",
       "      <td>9.200000</td>\n",
       "      <td>5.22000</td>\n",
       "    </tr>\n",
       "    <tr>\n",
       "      <th>std</th>\n",
       "      <td>1.581139</td>\n",
       "      <td>154.857354</td>\n",
       "      <td>7.311293</td>\n",
       "      <td>3.38408</td>\n",
       "    </tr>\n",
       "    <tr>\n",
       "      <th>min</th>\n",
       "      <td>101.000000</td>\n",
       "      <td>42.000000</td>\n",
       "      <td>4.500000</td>\n",
       "      <td>0.70000</td>\n",
       "    </tr>\n",
       "    <tr>\n",
       "      <th>25%</th>\n",
       "      <td>102.000000</td>\n",
       "      <td>45.000000</td>\n",
       "      <td>5.000000</td>\n",
       "      <td>3.40000</td>\n",
       "    </tr>\n",
       "    <tr>\n",
       "      <th>50%</th>\n",
       "      <td>103.000000</td>\n",
       "      <td>61.000000</td>\n",
       "      <td>6.100000</td>\n",
       "      <td>5.00000</td>\n",
       "    </tr>\n",
       "    <tr>\n",
       "      <th>75%</th>\n",
       "      <td>104.000000</td>\n",
       "      <td>265.000000</td>\n",
       "      <td>8.400000</td>\n",
       "      <td>8.00000</td>\n",
       "    </tr>\n",
       "    <tr>\n",
       "      <th>max</th>\n",
       "      <td>105.000000</td>\n",
       "      <td>379.000000</td>\n",
       "      <td>22.000000</td>\n",
       "      <td>9.00000</td>\n",
       "    </tr>\n",
       "  </tbody>\n",
       "</table>\n",
       "</div>"
      ],
      "text/plain": [
       "         SampleID  Energy_kcal    Sugar_g  Protein_g\n",
       "count    5.000000     5.000000   5.000000    5.00000\n",
       "mean   103.000000   158.400000   9.200000    5.22000\n",
       "std      1.581139   154.857354   7.311293    3.38408\n",
       "min    101.000000    42.000000   4.500000    0.70000\n",
       "25%    102.000000    45.000000   5.000000    3.40000\n",
       "50%    103.000000    61.000000   6.100000    5.00000\n",
       "75%    104.000000   265.000000   8.400000    8.00000\n",
       "max    105.000000   379.000000  22.000000    9.00000"
      ]
     },
     "execution_count": 2,
     "metadata": {},
     "output_type": "execute_result"
    }
   ],
   "source": [
    "df.info()\n",
    "df.describe()"
   ]
  },
  {
   "cell_type": "markdown",
   "id": "ef8afb91",
   "metadata": {},
   "source": [
    "## 🍭 Visualise Sugar Content by Product"
   ]
  },
  {
   "cell_type": "code",
   "execution_count": 3,
   "id": "79fdedcd",
   "metadata": {},
   "outputs": [
    {
     "data": {
      "image/png": "[encoded data removed]",
      "text/plain": [
       "<Figure size 1000x500 with 1 Axes>"
      ]
     },
     "metadata": {},
     "output_type": "display_data"
    }
   ],
   "source": [
    "plt.figure(figsize=(10, 5))\n",
    "sns.barplot(data=df, x='Product', y='Sugar_g')\n",
    "plt.title('Sugar Content per 100g/ml by Product')\n",
    "plt.ylabel('Sugar (g)')\n",
    "plt.xticks(rotation=45)\n",
    "plt.tight_layout()\n",
    "plt.show()"
   ]
  },
  {
   "cell_type": "markdown",
   "id": "fca7f160",
   "metadata": {},
   "source": [
    "## 📂 Mean Nutrient Content by Category"
   ]
  },
  {
   "cell_type": "code",
   "execution_count": 4,
   "id": "e04cfd11",
   "metadata": {},
   "outputs": [
    {
     "data": {
      "text/html": [
       "<div>\n",
       "<style scoped>\n",
       "    .dataframe tbody tr th:only-of-type {\n",
       "        vertical-align: middle;\n",
       "    }\n",
       "\n",
       "    .dataframe tbody tr th {\n",
       "        vertical-align: top;\n",
       "    }\n",
       "\n",
       "    .dataframe thead th {\n",
       "        text-align: right;\n",
       "    }\n",
       "</style>\n",
       "<table border=\"1\" class=\"dataframe\">\n",
       "  <thead>\n",
       "    <tr style=\"text-align: right;\">\n",
       "      <th></th>\n",
       "      <th>Energy_kcal</th>\n",
       "      <th>Sugar_g</th>\n",
       "      <th>Protein_g</th>\n",
       "    </tr>\n",
       "    <tr>\n",
       "      <th>Category</th>\n",
       "      <th></th>\n",
       "      <th></th>\n",
       "      <th></th>\n",
       "    </tr>\n",
       "  </thead>\n",
       "  <tbody>\n",
       "    <tr>\n",
       "      <th>Dairy</th>\n",
       "      <td>51.5</td>\n",
       "      <td>5.55</td>\n",
       "      <td>4.2</td>\n",
       "    </tr>\n",
       "    <tr>\n",
       "      <th>Fruit</th>\n",
       "      <td>45.0</td>\n",
       "      <td>8.40</td>\n",
       "      <td>0.7</td>\n",
       "    </tr>\n",
       "    <tr>\n",
       "      <th>Grain</th>\n",
       "      <td>322.0</td>\n",
       "      <td>13.25</td>\n",
       "      <td>8.5</td>\n",
       "    </tr>\n",
       "  </tbody>\n",
       "</table>\n",
       "</div>"
      ],
      "text/plain": [
       "          Energy_kcal  Sugar_g  Protein_g\n",
       "Category                                 \n",
       "Dairy            51.5     5.55        4.2\n",
       "Fruit            45.0     8.40        0.7\n",
       "Grain           322.0    13.25        8.5"
      ]
     },
     "execution_count": 4,
     "metadata": {},
     "output_type": "execute_result"
    }
   ],
   "source": [
    "df.groupby('Category')[['Energy_kcal', 'Sugar_g', 'Protein_g']].mean()"
   ]
  },
  {
   "cell_type": "markdown",
   "id": "6cb195b0",
   "metadata": {},
   "source": [
    "## ✅ Summary\n",
    "- You loaded and explored a simple food composition dataset\n",
    "- Used `pandas` for grouping and summary statistics\n",
    "- Created bar plots using `matplotlib` and `seaborn`\n",
    "\n",
    "This type of analysis is useful in both public health and food product development contexts."
   ]
  }
 ],
 "metadata": {
  "kernelspec": {
   "display_name": "Python 3 (ipykernel)",
   "language": "python",
   "name": "python3"
  },
  "language_info": {
   "codemirror_mode": {
    "name": "ipython",
    "version": 3
   },
   "file_extension": ".py",
   "mimetype": "text/x-python",
   "name": "python",
   "nbconvert_exporter": "python",
   "pygments_lexer": "ipython3",
   "version": "3.9.6"
  }
 },
 "nbformat": 4,
 "nbformat_minor": 5
}

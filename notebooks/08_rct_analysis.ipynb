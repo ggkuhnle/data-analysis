{
 "cells": [
  {
   "cell_type": "markdown",
   "id": "16ce07dc",
   "metadata": {},
   "source": [
    "# 🧪 Analysing a Simulated RCT with Baseline and Follow-up Data\n",
    "This notebook provides a detailed example of how to analyse a simulated RCT dataset that includes baseline and follow-up data for both primary and secondary outcomes.\n",
    "\n",
    "**Goals:**\n",
    "- Explore the structure of the dataset\n",
    "- Perform a basic power analysis\n",
    "- Estimate effect sizes\n",
    "- Compare within- and between-group differences\n",
    "- Analyse binary outcomes\n",
    "- Use linear models to adjust for covariates\n"
   ]
  },
  {
   "cell_type": "markdown",
   "id": "27c16231",
   "metadata": {},
   "source": [
    "## 📥 Load and Inspect the Data"
   ]
  },
  {
   "cell_type": "code",
   "execution_count": null,
   "id": "56f8cda9",
   "metadata": {},
   "outputs": [],
   "source": [
    "import pandas as pd\n",
    "import seaborn as sns\n",
    "import matplotlib.pyplot as plt\n",
    "from scipy import stats\n",
    "import statsmodels.api as sm\n",
    "import statsmodels.formula.api as smf\n",
    "\n",
    "df = pd.read_csv('https://raw.githubusercontent.com/ggkuhnle/data-analysis/main/data/rct_realistic_with_baseline.csv')\n",
    "df['SBP_Change'] = df['SBP_Before'] - df['SBP_After']\n",
    "df['LDL_Change'] = df['LDL_Before'] - df['LDL_After']\n",
    "df.head()"
   ]
  },
  {
   "cell_type": "markdown",
   "id": "1b62b8ec",
   "metadata": {},
   "source": [
    "## 🔋 Power Analysis"
   ]
  },
  {
   "cell_type": "code",
   "execution_count": null,
   "id": "03cf0686",
   "metadata": {},
   "outputs": [],
   "source": [
    "from statsmodels.stats.power import TTestIndPower\n",
    "analysis = TTestIndPower()\n",
    "effect_size = 0.5\n",
    "power = 0.8\n",
    "alpha = 0.05\n",
    "required_n = analysis.solve_power(effect_size=effect_size, power=power, alpha=alpha)\n",
    "print(f\"Estimated required sample size per group (d=0.5): {required_n:.1f}\")"
   ]
  },
  {
   "cell_type": "markdown",
   "id": "7dfcd956",
   "metadata": {},
   "source": [
    "## 📊 Are Groups Comparable at Baseline?"
   ]
  },
  {
   "cell_type": "code",
   "execution_count": null,
   "id": "738458d3",
   "metadata": {},
   "outputs": [],
   "source": [
    "sns.boxplot(data=df, x='Group', y='SBP_Before')\n",
    "plt.title('Baseline SBP by Group')\n",
    "plt.show()\n",
    "res = stats.ttest_ind(df[df['Group']=='Control']['SBP_Before'],\n",
    "                      df[df['Group']=='Intervention']['SBP_Before'])\n",
    "print(f\"T-test SBP_Before: t = {res.statistic:.2f}, p = {res.pvalue:.3f}\")"
   ]
  },
  {
   "cell_type": "markdown",
   "id": "c424884c",
   "metadata": {},
   "source": [
    "## 🎯 Primary Outcome: Change in SBP"
   ]
  },
  {
   "cell_type": "code",
   "execution_count": null,
   "id": "f1e0ab99",
   "metadata": {},
   "outputs": [],
   "source": [
    "sns.boxplot(data=df, x='Group', y='SBP_Change')\n",
    "plt.title('SBP Change by Group')\n",
    "plt.show()\n",
    "t_stat, p_value = stats.ttest_ind(df[df['Group'] == 'Control']['SBP_Change'],\n",
    "                                  df[df['Group'] == 'Intervention']['SBP_Change'])\n",
    "print(f\"T-test SBP Change: t = {t_stat:.2f}, p = {p_value:.3f}\")"
   ]
  },
  {
   "cell_type": "markdown",
   "id": "6e7c6bfb",
   "metadata": {},
   "source": [
    "## 🧮 Linear Model Adjusting for Covariates"
   ]
  },
  {
   "cell_type": "code",
   "execution_count": null,
   "id": "b5dc2eb3",
   "metadata": {},
   "outputs": [],
   "source": [
    "model = smf.ols('SBP_Change ~ Group + Age + C(Sex)', data=df).fit()\n",
    "print(model.summary())"
   ]
  },
  {
   "cell_type": "markdown",
   "id": "50bc87be",
   "metadata": {},
   "source": [
    "## 🧪 Secondary Outcome: LDL Cholesterol Change"
   ]
  },
  {
   "cell_type": "code",
   "execution_count": null,
   "id": "321d9e30",
   "metadata": {},
   "outputs": [],
   "source": [
    "sns.boxplot(data=df, x='Group', y='LDL_Change')\n",
    "plt.title('LDL Change by Group')\n",
    "plt.show()\n",
    "t_stat, p_value = stats.ttest_ind(df[df['Group'] == 'Control']['LDL_Change'],\n",
    "                                  df[df['Group'] == 'Intervention']['LDL_Change'])\n",
    "print(f\"T-test LDL Change: t = {t_stat:.2f}, p = {p_value:.3f}\")"
   ]
  },
  {
   "cell_type": "markdown",
   "id": "dd6170e9",
   "metadata": {},
   "source": [
    "## ✅ Binary Outcome: Reaching SBP Target"
   ]
  },
  {
   "cell_type": "code",
   "execution_count": null,
   "id": "ce0b0b5c",
   "metadata": {},
   "outputs": [],
   "source": [
    "ct = pd.crosstab(df['Group'], df['SBP_Target'])\n",
    "chi2, p, _, _ = stats.chi2_contingency(ct)\n",
    "print(f\"Chi-squared test: χ² = {chi2:.2f}, p = {p:.3f}\")\n",
    "ct"
   ]
  },
  {
   "cell_type": "markdown",
   "id": "95425ea8",
   "metadata": {},
   "source": [
    "## 📋 Summary\n",
    "- Power analysis suggests ~64 participants per group needed for d = 0.5\n",
    "- No baseline difference in SBP confirms good randomisation\n",
    "- SBP change significantly greater in intervention group\n",
    "- LDL change also shows a group effect\n",
    "- More participants in the intervention group achieved target SBP\n",
    "\n",
    "This notebook illustrates a realistic RCT analysis with paired outcomes and covariate adjustment."
   ]
  }
 ],
 "metadata": {},
 "nbformat": 4,
 "nbformat_minor": 5
}

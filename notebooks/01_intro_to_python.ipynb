{
 "cells": [
  {
   "cell_type": "markdown",
   "id": "3624f612",
   "metadata": {},
   "source": [
    "# 🐍 Introduction to Python and Google Colab\n",
    "\n",
    "Welcome to the first session of the Python Data Analysis Bootcamp! In this notebook, you'll learn the basics of Python programming and how to use Google Colab. We'll cover variables, data types, simple operations, and basic visualisation. \n",
    "\n",
    "**Objectives:**\n",
    "- Understand basic Python syntax\n",
    "- Use variables and data structures\n",
    "- Perform simple calculations\n",
    "- Create your first plot\n",
    "\n",
    "> 💡 You can run any code cell by pressing `Shift + Enter`"
   ]
  },
  {
   "cell_type": "markdown",
   "id": "ced8c4bc",
   "metadata": {},
   "source": [
    "## 🔢 Variables and Data Types"
   ]
  },
  {
   "cell_type": "code",
   "execution_count": null,
   "id": "3d3dfc3e",
   "metadata": {},
   "outputs": [],
   "source": [
    "# Assign values to variables\n",
    "a = 10\n",
    "b = 3.5\n",
    "c = 'Hello, world!'\n",
    "\n",
    "# Print them\n",
    "print(a)\n",
    "print(b)\n",
    "print(c)"
   ]
  },
  {
   "cell_type": "markdown",
   "id": "f8928aea",
   "metadata": {},
   "source": [
    "## 📦 Lists and Indexing"
   ]
  },
  {
   "cell_type": "code",
   "execution_count": null,
   "id": "5858aab0",
   "metadata": {},
   "outputs": [],
   "source": [
    "fruits = ['apple', 'banana', 'cherry']\n",
    "print(fruits)\n",
    "print(fruits[0])  # First item"
   ]
  },
  {
   "cell_type": "markdown",
   "id": "89ce5498",
   "metadata": {},
   "source": [
    "## 🛠️ Importing Libraries"
   ]
  },
  {
   "cell_type": "code",
   "execution_count": null,
   "id": "2c8f18ae",
   "metadata": {},
   "outputs": [],
   "source": [
    "import numpy as np\n",
    "import pandas as pd\n",
    "import matplotlib.pyplot as plt"
   ]
  },
  {
   "cell_type": "markdown",
   "id": "07ef8d5c",
   "metadata": {},
   "source": [
    "## 📊 Numpy and Pandas Basics"
   ]
  },
  {
   "cell_type": "code",
   "execution_count": null,
   "id": "7aea6170",
   "metadata": {},
   "outputs": [],
   "source": [
    "# Numpy array\n",
    "array = np.array([1, 2, 3, 4])\n",
    "print(array * 2)\n",
    "\n",
    "# Pandas DataFrame\n",
    "data = pd.DataFrame({\n",
    "    'Name': ['Alice', 'Bob', 'Charlie'],\n",
    "    'Age': [25, 30, 35]\n",
    "})\n",
    "data"
   ]
  },
  {
   "cell_type": "markdown",
   "id": "d561d37b",
   "metadata": {},
   "source": [
    "## 📈 Your First Plot"
   ]
  },
  {
   "cell_type": "code",
   "execution_count": null,
   "id": "8e6259ba",
   "metadata": {},
   "outputs": [],
   "source": [
    "x = [1, 2, 3, 4, 5]\n",
    "y = [1, 4, 9, 16, 25]\n",
    "\n",
    "plt.plot(x, y)\n",
    "plt.title('A Simple Plot')\n",
    "plt.xlabel('x')\n",
    "plt.ylabel('y')\n",
    "plt.grid(True)\n",
    "plt.show()"
   ]
  },
  {
   "cell_type": "markdown",
   "id": "53999e4b",
   "metadata": {},
   "source": [
    "## ✅ Summary\n",
    "- You’ve learned about Python variables, lists, and basic libraries like `numpy`, `pandas`, and `matplotlib`.\n",
    "- You’ve also created your first visualisation!\n",
    "\n",
    "In the next session, we'll dive deeper into using `pandas` for real-world data analysis tasks."
   ]
  }
 ],
 "metadata": {},
 "nbformat": 4,
 "nbformat_minor": 5
}

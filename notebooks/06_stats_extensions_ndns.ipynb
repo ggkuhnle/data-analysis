{
 "cells": [
  {
   "cell_type": "markdown",
   "id": "258ee776",
   "metadata": {},
   "source": [
    "# 📐 Deeper into Stats – Distributions, Transformations & Regression\n",
    "This session builds on previous work and introduces a more realistic dataset inspired by the NDNS.\n",
    "\n",
    "**Topics:**\n",
    "- Working with more complex data\n",
    "- Checking distributions\n",
    "- Z-score and log transformations\n",
    "- Visualising regression fit and uncertainty"
   ]
  },
  {
   "cell_type": "markdown",
   "id": "71d81386",
   "metadata": {},
   "source": [
    "## 📥 Load Data and Tools"
   ]
  },
  {
   "cell_type": "code",
   "execution_count": null,
   "id": "5f94b966",
   "metadata": {},
   "outputs": [],
   "source": [
    "import pandas as pd\n",
    "import numpy as np\n",
    "import seaborn as sns\n",
    "import matplotlib.pyplot as plt\n",
    "import statsmodels.formula.api as smf\n",
    "\n",
    "# Load simulated NDNS data\n",
    "df = pd.read_csv('https://raw.githubusercontent.com/ggkuhnle/data-analysis/main/data/ndns_simulated.csv')\n",
    "df.head()"
   ]
  },
  {
   "cell_type": "markdown",
   "id": "6b247f79",
   "metadata": {},
   "source": [
    "## 📊 Check Distributions"
   ]
  },
  {
   "cell_type": "code",
   "execution_count": null,
   "id": "2fed2dca",
   "metadata": {},
   "outputs": [],
   "source": [
    "sns.histplot(df['Cholesterol_mmol_L'], kde=True, bins=20)\n",
    "plt.title('Distribution of Cholesterol (mmol/L)')\n",
    "plt.show()"
   ]
  },
  {
   "cell_type": "markdown",
   "id": "9a7532a8",
   "metadata": {},
   "source": [
    "## 🧮 Z-Transformation"
   ]
  },
  {
   "cell_type": "code",
   "execution_count": null,
   "id": "99d726da",
   "metadata": {},
   "outputs": [],
   "source": [
    "df['Cholesterol_z'] = (df['Cholesterol_mmol_L'] - df['Cholesterol_mmol_L'].mean()) / df['Cholesterol_mmol_L'].std()\n",
    "sns.histplot(df['Cholesterol_z'], kde=True)\n",
    "plt.title('Z-score Normalised Cholesterol')\n",
    "plt.show()"
   ]
  },
  {
   "cell_type": "markdown",
   "id": "d486165c",
   "metadata": {},
   "source": [
    "## 🔢 Log Transformation"
   ]
  },
  {
   "cell_type": "code",
   "execution_count": null,
   "id": "7b933be3",
   "metadata": {},
   "outputs": [],
   "source": [
    "df['Cholesterol_log'] = np.log(df['Cholesterol_mmol_L'])\n",
    "sns.histplot(df['Cholesterol_log'], kde=True)\n",
    "plt.title('Log-Transformed Cholesterol')\n",
    "plt.show()"
   ]
  },
  {
   "cell_type": "markdown",
   "id": "8e338406",
   "metadata": {},
   "source": [
    "## 📈 Regression – Saturated Fat and Cholesterol"
   ]
  },
  {
   "cell_type": "code",
   "execution_count": null,
   "id": "53032131",
   "metadata": {},
   "outputs": [],
   "source": [
    "model = smf.ols('Cholesterol_mmol_L ~ SaturatedFat_g + Fibre_g + Age + C(Sex)', data=df).fit()\n",
    "print(model.summary())"
   ]
  },
  {
   "cell_type": "code",
   "execution_count": null,
   "id": "49fd2c22",
   "metadata": {},
   "outputs": [],
   "source": [
    "df['pred'] = model.fittedvalues\n",
    "df['ci_low'], df['ci_high'] = model.get_prediction().conf_int().T\n",
    "\n",
    "plt.figure(figsize=(8,5))\n",
    "sns.scatterplot(x='pred', y='Cholesterol_mmol_L', data=df)\n",
    "plt.plot([df['pred'].min(), df['pred'].max()], [df['pred'].min(), df['pred'].max()], ls='--', color='red')\n",
    "plt.title('Observed vs Predicted Cholesterol')\n",
    "plt.xlabel('Predicted')\n",
    "plt.ylabel('Observed')\n",
    "plt.show()"
   ]
  },
  {
   "cell_type": "markdown",
   "id": "d20e1c6e",
   "metadata": {},
   "source": [
    "## ✅ Summary\n",
    "- Used a more realistic NDNS-like dataset\n",
    "- Explored variable distributions and transformations\n",
    "- Built a regression model with multiple predictors\n",
    "- Interpreted results visually and statistically\n",
    "\n",
    "You're now well equipped to dive into complex data and interpret it like a pro. 🧠🦛"
   ]
  }
 ],
 "metadata": {},
 "nbformat": 4,
 "nbformat_minor": 5
}

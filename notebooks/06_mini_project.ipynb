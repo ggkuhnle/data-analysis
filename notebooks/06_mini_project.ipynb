{
 "cells": [
  {
   "cell_type": "markdown",
   "id": "e5d01a3e",
   "metadata": {},
   "source": [
    "# 🎓 Mini-Project – Explore Your Own Dataset\n",
    "\n",
    "This is your final session! You’ll use everything you’ve learned so far to analyse and present a small dataset.\n",
    "You can use the hippo data provided or bring your own (optional!).\n",
    "\n",
    "**What to do:**\n",
    "- Load and explore the data\n",
    "- Clean or tidy it (if needed)\n",
    "- Summarise and describe key features\n",
    "- Compare groups or test a simple hypothesis\n",
    "- Create at least one visualisation\n",
    "- Write a short conclusion"
   ]
  },
  {
   "cell_type": "markdown",
   "id": "a2a73714",
   "metadata": {},
   "source": [
    "## 🐾 Step 1 – Load the Data"
   ]
  },
  {
   "cell_type": "code",
   "execution_count": null,
   "id": "f0b59b1d",
   "metadata": {},
   "outputs": [],
   "source": [
    "import pandas as pd\n",
    "\n",
    "df = pd.read_csv('https://raw.githubusercontent.com/your-username/data-analysis/main/data/hippos_cleaned.csv')  # or upload your own\n",
    "df.head()"
   ]
  },
  {
   "cell_type": "markdown",
   "id": "33cc1c80",
   "metadata": {},
   "source": [
    "## 🧹 Step 2 – Clean or Prepare the Data"
   ]
  },
  {
   "cell_type": "code",
   "execution_count": null,
   "id": "a00645d0",
   "metadata": {},
   "outputs": [],
   "source": [
    "# Check for missing values or inconsistent entries\n",
    "df.info()\n",
    "df.isna().sum()"
   ]
  },
  {
   "cell_type": "markdown",
   "id": "2457730c",
   "metadata": {},
   "source": [
    "## 📊 Step 3 – Describe and Summarise"
   ]
  },
  {
   "cell_type": "code",
   "execution_count": null,
   "id": "8a0b55ab",
   "metadata": {},
   "outputs": [],
   "source": [
    "# Summary statistics and grouping\n",
    "df.groupby('Sex')[['Weight_kg', 'Height_cm']].mean()"
   ]
  },
  {
   "cell_type": "markdown",
   "id": "f6838f16",
   "metadata": {},
   "source": [
    "## 🧪 Step 4 – Compare Groups"
   ]
  },
  {
   "cell_type": "code",
   "execution_count": null,
   "id": "c41cd9c6",
   "metadata": {},
   "outputs": [],
   "source": [
    "from scipy import stats\n",
    "\n",
    "male = df[df['Sex'] == 'Male']['Weight_kg']\n",
    "female = df[df['Sex'] == 'Female']['Weight_kg']\n",
    "\n",
    "stats.ttest_ind(male, female)"
   ]
  },
  {
   "cell_type": "markdown",
   "id": "adb99d55",
   "metadata": {},
   "source": [
    "## 📈 Step 5 – Visualise"
   ]
  },
  {
   "cell_type": "code",
   "execution_count": null,
   "id": "f74af5dc",
   "metadata": {},
   "outputs": [],
   "source": [
    "import seaborn as sns\n",
    "import matplotlib.pyplot as plt\n",
    "\n",
    "sns.boxplot(data=df, x='Sex', y='Height_cm')\n",
    "plt.title('Height by Sex')\n",
    "plt.show()"
   ]
  },
  {
   "cell_type": "markdown",
   "id": "ce8b422c",
   "metadata": {},
   "source": [
    "## 📝 Step 6 – Conclude"
   ]
  },
  {
   "cell_type": "code",
   "execution_count": null,
   "id": "dc917240",
   "metadata": {},
   "outputs": [],
   "source": [
    "# Write your observations here as a comment:\n",
    "# - What did you notice?\n",
    "# - Any surprising results?\n",
    "# - What would you explore next if you had more time?"
   ]
  },
  {
   "cell_type": "markdown",
   "id": "01daa49f",
   "metadata": {},
   "source": [
    "## ✅ Optional Challenges\n",
    "- Try a regression model: `Weight ~ Height`\n",
    "- Compare a third variable (e.g. habitat)\n",
    "- Turn your analysis into a short presentation\n",
    "- Try using a different dataset (NDNS/FFQ/etc.)"
   ]
  },
  {
   "cell_type": "markdown",
   "id": "e8d295c5",
   "metadata": {},
   "source": [
    "## 🦛 Congratulations!\n",
    "You’ve completed the Python for Data Analysis course. 🎉\n",
    "\n",
    "You now know how to:\n",
    "- Write Python code\n",
    "- Clean and reshape messy data\n",
    "- Summarise, plot, and analyse datasets\n",
    "- Understand and test statistical differences\n",
    "\n",
    "*Python is like a river – you’ve learned to swim in it. Now go explore!* 🐾"
   ]
  }
 ],
 "metadata": {},
 "nbformat": 4,
 "nbformat_minor": 5
}

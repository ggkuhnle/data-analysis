{
 "cells": [
  {
   "cell_type": "markdown",
   "id": "e5d01a3e",
   "metadata": {},
   "source": [
    "# 🎓 Mini-Project – Explore Your Own Dataset\n",
    "\n",
    "This is your final session! You’ll use everything you’ve learned so far to analyse and present a small dataset.\n",
    "You can use the hippo data provided or bring your own (optional!).\n",
    "\n",
    "**What to do:**\n",
    "- Load and explore the data\n",
    "- Clean or tidy it (if needed)\n",
    "- Summarise and describe key features\n",
    "- Compare groups or test a simple hypothesis\n",
    "- Create at least one visualisation\n",
    "- Write a short conclusion"
   ]
  },
  {
   "cell_type": "markdown",
   "id": "a2a73714",
   "metadata": {},
   "source": [
    "## 🐾 Step 1 – Load the Data"
   ]
  },
  {
   "cell_type": "code",
   "execution_count": 2,
   "id": "f0b59b1d",
   "metadata": {},
   "outputs": [
    {
     "data": {
      "text/html": [
       "<div>\n",
       "<style scoped>\n",
       "    .dataframe tbody tr th:only-of-type {\n",
       "        vertical-align: middle;\n",
       "    }\n",
       "\n",
       "    .dataframe tbody tr th {\n",
       "        vertical-align: top;\n",
       "    }\n",
       "\n",
       "    .dataframe thead th {\n",
       "        text-align: right;\n",
       "    }\n",
       "</style>\n",
       "<table border=\"1\" class=\"dataframe\">\n",
       "  <thead>\n",
       "    <tr style=\"text-align: right;\">\n",
       "      <th></th>\n",
       "      <th>Name</th>\n",
       "      <th>Species</th>\n",
       "      <th>Weight_kg</th>\n",
       "      <th>Height_cm</th>\n",
       "      <th>Habitat</th>\n",
       "      <th>Sex</th>\n",
       "    </tr>\n",
       "  </thead>\n",
       "  <tbody>\n",
       "    <tr>\n",
       "      <th>0</th>\n",
       "      <td>Hugo</td>\n",
       "      <td>hippo</td>\n",
       "      <td>1500</td>\n",
       "      <td>150</td>\n",
       "      <td>River</td>\n",
       "      <td>Male</td>\n",
       "    </tr>\n",
       "    <tr>\n",
       "      <th>1</th>\n",
       "      <td>Fiona</td>\n",
       "      <td>hippo</td>\n",
       "      <td>1400</td>\n",
       "      <td>150</td>\n",
       "      <td>River</td>\n",
       "      <td>Female</td>\n",
       "    </tr>\n",
       "    <tr>\n",
       "      <th>2</th>\n",
       "      <td>George</td>\n",
       "      <td>hippo</td>\n",
       "      <td>1450</td>\n",
       "      <td>160</td>\n",
       "      <td>Lake</td>\n",
       "      <td>Male</td>\n",
       "    </tr>\n",
       "    <tr>\n",
       "      <th>3</th>\n",
       "      <td>Gloria</td>\n",
       "      <td>hippo</td>\n",
       "      <td>1350</td>\n",
       "      <td>145</td>\n",
       "      <td>Lake</td>\n",
       "      <td>Female</td>\n",
       "    </tr>\n",
       "    <tr>\n",
       "      <th>4</th>\n",
       "      <td>Fred</td>\n",
       "      <td>hippo</td>\n",
       "      <td>1600</td>\n",
       "      <td>155</td>\n",
       "      <td>River</td>\n",
       "      <td>Male</td>\n",
       "    </tr>\n",
       "  </tbody>\n",
       "</table>\n",
       "</div>"
      ],
      "text/plain": [
       "     Name Species  Weight_kg  Height_cm Habitat     Sex\n",
       "0    Hugo   hippo       1500        150   River    Male\n",
       "1   Fiona   hippo       1400        150   River  Female\n",
       "2  George   hippo       1450        160    Lake    Male\n",
       "3  Gloria   hippo       1350        145    Lake  Female\n",
       "4    Fred   hippo       1600        155   River    Male"
      ]
     },
     "execution_count": 2,
     "metadata": {},
     "output_type": "execute_result"
    }
   ],
   "source": [
    "import pandas as pd\n",
    "\n",
    "df = pd.read_csv('https://raw.githubusercontent.com/ggkuhnle/data-analysis/main/data/hippos_cleaned.csv')  # or upload your own\n",
    "df.head()"
   ]
  },
  {
   "cell_type": "markdown",
   "id": "33cc1c80",
   "metadata": {},
   "source": [
    "## 🧹 Step 2 – Clean or Prepare the Data"
   ]
  },
  {
   "cell_type": "code",
   "execution_count": 3,
   "id": "a00645d0",
   "metadata": {},
   "outputs": [
    {
     "name": "stdout",
     "output_type": "stream",
     "text": [
      "<class 'pandas.core.frame.DataFrame'>\n",
      "RangeIndex: 8 entries, 0 to 7\n",
      "Data columns (total 6 columns):\n",
      " #   Column     Non-Null Count  Dtype \n",
      "---  ------     --------------  ----- \n",
      " 0   Name       8 non-null      object\n",
      " 1   Species    8 non-null      object\n",
      " 2   Weight_kg  8 non-null      int64 \n",
      " 3   Height_cm  8 non-null      int64 \n",
      " 4   Habitat    8 non-null      object\n",
      " 5   Sex        8 non-null      object\n",
      "dtypes: int64(2), object(4)\n",
      "memory usage: 512.0+ bytes\n"
     ]
    },
    {
     "data": {
      "text/plain": [
       "Name         0\n",
       "Species      0\n",
       "Weight_kg    0\n",
       "Height_cm    0\n",
       "Habitat      0\n",
       "Sex          0\n",
       "dtype: int64"
      ]
     },
     "execution_count": 3,
     "metadata": {},
     "output_type": "execute_result"
    }
   ],
   "source": [
    "# Check for missing values or inconsistent entries\n",
    "df.info()\n",
    "df.isna().sum()"
   ]
  },
  {
   "cell_type": "markdown",
   "id": "2457730c",
   "metadata": {},
   "source": [
    "## 📊 Step 3 – Describe and Summarise"
   ]
  },
  {
   "cell_type": "code",
   "execution_count": 4,
   "id": "8a0b55ab",
   "metadata": {},
   "outputs": [
    {
     "data": {
      "text/html": [
       "<div>\n",
       "<style scoped>\n",
       "    .dataframe tbody tr th:only-of-type {\n",
       "        vertical-align: middle;\n",
       "    }\n",
       "\n",
       "    .dataframe tbody tr th {\n",
       "        vertical-align: top;\n",
       "    }\n",
       "\n",
       "    .dataframe thead th {\n",
       "        text-align: right;\n",
       "    }\n",
       "</style>\n",
       "<table border=\"1\" class=\"dataframe\">\n",
       "  <thead>\n",
       "    <tr style=\"text-align: right;\">\n",
       "      <th></th>\n",
       "      <th>Weight_kg</th>\n",
       "      <th>Height_cm</th>\n",
       "    </tr>\n",
       "    <tr>\n",
       "      <th>Sex</th>\n",
       "      <th></th>\n",
       "      <th></th>\n",
       "    </tr>\n",
       "  </thead>\n",
       "  <tbody>\n",
       "    <tr>\n",
       "      <th>Female</th>\n",
       "      <td>1455.0</td>\n",
       "      <td>151.5</td>\n",
       "    </tr>\n",
       "    <tr>\n",
       "      <th>Male</th>\n",
       "      <td>1507.5</td>\n",
       "      <td>153.5</td>\n",
       "    </tr>\n",
       "  </tbody>\n",
       "</table>\n",
       "</div>"
      ],
      "text/plain": [
       "        Weight_kg  Height_cm\n",
       "Sex                         \n",
       "Female     1455.0      151.5\n",
       "Male       1507.5      153.5"
      ]
     },
     "execution_count": 4,
     "metadata": {},
     "output_type": "execute_result"
    }
   ],
   "source": [
    "# Summary statistics and grouping\n",
    "df.groupby('Sex')[['Weight_kg', 'Height_cm']].mean()"
   ]
  },
  {
   "cell_type": "markdown",
   "id": "f6838f16",
   "metadata": {},
   "source": [
    "## 🧪 Step 4 – Compare Groups"
   ]
  },
  {
   "cell_type": "code",
   "execution_count": null,
   "id": "c41cd9c6",
   "metadata": {},
   "outputs": [],
   "source": [
    "from scipy import stats\n",
    "\n",
    "male = df[df['Sex'] == 'Male']['Weight_kg']\n",
    "female = df[df['Sex'] == 'Female']['Weight_kg']\n",
    "\n",
    "stats.ttest_ind(male, female)"
   ]
  },
  {
   "cell_type": "markdown",
   "id": "adb99d55",
   "metadata": {},
   "source": [
    "## 📈 Step 5 – Visualise"
   ]
  },
  {
   "cell_type": "code",
   "execution_count": null,
   "id": "f74af5dc",
   "metadata": {},
   "outputs": [],
   "source": [
    "import seaborn as sns\n",
    "import matplotlib.pyplot as plt\n",
    "\n",
    "sns.boxplot(data=df, x='Sex', y='Height_cm')\n",
    "plt.title('Height by Sex')\n",
    "plt.show()"
   ]
  },
  {
   "cell_type": "markdown",
   "id": "ce8b422c",
   "metadata": {},
   "source": [
    "## 📝 Step 6 – Conclude"
   ]
  },
  {
   "cell_type": "code",
   "execution_count": null,
   "id": "dc917240",
   "metadata": {},
   "outputs": [],
   "source": [
    "# Write your observations here as a comment:\n",
    "# - What did you notice?\n",
    "# - Any surprising results?\n",
    "# - What would you explore next if you had more time?"
   ]
  },
  {
   "cell_type": "markdown",
   "id": "01daa49f",
   "metadata": {},
   "source": [
    "## ✅ Optional Challenges\n",
    "- Try a regression model: `Weight ~ Height`\n",
    "- Compare a third variable (e.g. habitat)\n",
    "- Turn your analysis into a short presentation\n",
    "- Try using a different dataset (NDNS/FFQ/etc.)"
   ]
  },
  {
   "cell_type": "markdown",
   "id": "e8d295c5",
   "metadata": {},
   "source": [
    "## 🦛 Congratulations!\n",
    "You’ve completed the Python for Data Analysis course. 🎉\n",
    "\n",
    "You now know how to:\n",
    "- Write Python code\n",
    "- Clean and reshape messy data\n",
    "- Summarise, plot, and analyse datasets\n",
    "- Understand and test statistical differences\n",
    "\n",
    "*Python is like a river – you’ve learned to swim in it. Now go explore!* 🐾"
   ]
  }
 ],
 "metadata": {
  "kernelspec": {
   "display_name": "Python 3 (ipykernel)",
   "language": "python",
   "name": "python3"
  },
  "language_info": {
   "codemirror_mode": {
    "name": "ipython",
    "version": 3
   },
   "file_extension": ".py",
   "mimetype": "text/x-python",
   "name": "python",
   "nbconvert_exporter": "python",
   "pygments_lexer": "ipython3",
   "version": "3.9.6"
  }
 },
 "nbformat": 4,
 "nbformat_minor": 5
}

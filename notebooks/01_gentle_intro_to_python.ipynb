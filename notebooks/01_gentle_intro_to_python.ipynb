{
 "cells": [
  {
   "cell_type": "markdown",
   "id": "b54b10e4",
   "metadata": {},
   "source": [
    "# 🐍 Welcome to Python and Google Colab\n",
    "\n",
    "This is your very first session with Python. We’re going to take things slowly, clearly, and with plenty of real-life examples. By the end of today’s session, you’ll be able to:\n",
    "- Understand what code is and how Python thinks\n",
    "- Create and use variables\n",
    "- Use basic data types: numbers, text, lists\n",
    "- Write simple instructions using `if`, `for`, and `def`\n",
    "- Run everything in Google Colab — no installation needed!\n",
    "\n",
    "> 🧠 Think of Python like giving instructions to a very obedient but literal-minded assistant. It will do **exactly** what you tell it... and nothing more!"
   ]
  },
  {
   "cell_type": "markdown",
   "id": "7f2f28d5",
   "metadata": {},
   "source": [
    "## ▶️ Running Code in Colab"
   ]
  },
  {
   "cell_type": "code",
   "execution_count": null,
   "id": "90b148b4",
   "metadata": {},
   "outputs": [],
   "source": [
    "print('Hello! Welcome to Python 🙂')"
   ]
  },
  {
   "cell_type": "markdown",
   "id": "4b5a5393",
   "metadata": {},
   "source": [
    "## 📦 Variables – Like Boxes for Information"
   ]
  },
  {
   "cell_type": "code",
   "execution_count": null,
   "id": "36f0ceb6",
   "metadata": {},
   "outputs": [],
   "source": [
    "my_name = 'Alice'\n",
    "favourite_number = 7\n",
    "\n",
    "print('My name is', my_name)\n",
    "print('My favourite number is', favourite_number)"
   ]
  },
  {
   "cell_type": "markdown",
   "id": "41b794b9",
   "metadata": {},
   "source": [
    "## 🔤 Data Types – Different Kinds of Information"
   ]
  },
  {
   "cell_type": "code",
   "execution_count": null,
   "id": "ada8403d",
   "metadata": {},
   "outputs": [],
   "source": [
    "age = 20\n",
    "height = 1.68\n",
    "name = 'Charlie'\n",
    "likes_python = True\n",
    "\n",
    "print(type(height))"
   ]
  },
  {
   "cell_type": "markdown",
   "id": "0f759205",
   "metadata": {},
   "source": [
    "## 📋 Lists – Collections of Things"
   ]
  },
  {
   "cell_type": "code",
   "execution_count": null,
   "id": "67680556",
   "metadata": {},
   "outputs": [],
   "source": [
    "groceries = ['milk', 'bread', 'eggs', 'apples']\n",
    "print(groceries)\n",
    "print('First item in the list:', groceries[0])\n",
    "print('How many items?', len(groceries))"
   ]
  },
  {
   "cell_type": "markdown",
   "id": "494f6966",
   "metadata": {},
   "source": [
    "## 🤔 Decisions with `if`"
   ]
  },
  {
   "cell_type": "code",
   "execution_count": null,
   "id": "22fdf0cb",
   "metadata": {},
   "outputs": [],
   "source": [
    "temperature = 15\n",
    "\n",
    "if temperature > 20:\n",
    "    print('It’s warm outside')\n",
    "else:\n",
    "    print('Better take a jumper!')"
   ]
  },
  {
   "cell_type": "markdown",
   "id": "d09c2ef7",
   "metadata": {},
   "source": [
    "## 🧠 More on Decisions – `if`, `elif`, `else`"
   ]
  },
  {
   "cell_type": "code",
   "execution_count": null,
   "id": "c0034854",
   "metadata": {},
   "outputs": [],
   "source": [
    "temperature = 30\n",
    "\n",
    "if temperature > 25:\n",
    "    print('It’s hot!')\n",
    "elif temperature > 15:\n",
    "    print('It’s warm.')\n",
    "else:\n",
    "    print('It’s a bit chilly.')"
   ]
  },
  {
   "cell_type": "markdown",
   "id": "84893a53",
   "metadata": {},
   "source": [
    "## ⚡ One-Line Decisions – `value_if_true if condition else value_if_false`"
   ]
  },
  {
   "cell_type": "code",
   "execution_count": null,
   "id": "5a5d9b77",
   "metadata": {},
   "outputs": [],
   "source": [
    "age = 17\n",
    "status = 'Adult' if age >= 18 else 'Minor'\n",
    "print('Status:', status)"
   ]
  },
  {
   "cell_type": "markdown",
   "id": "39b8f7a6",
   "metadata": {},
   "source": [
    "## 🔁 Loops – Doing Things Again and Again"
   ]
  },
  {
   "cell_type": "code",
   "execution_count": null,
   "id": "8be323a5",
   "metadata": {},
   "outputs": [],
   "source": [
    "for item in groceries:\n",
    "    print('I need to buy:', item)"
   ]
  },
  {
   "cell_type": "markdown",
   "id": "e20c9976",
   "metadata": {},
   "source": [
    "## 🛠️ Functions – Reusable Instructions"
   ]
  },
  {
   "cell_type": "code",
   "execution_count": null,
   "id": "1aa65609",
   "metadata": {},
   "outputs": [],
   "source": [
    "def greeting(name):\n",
    "    print('Hello', name, '– nice to see you!')\n",
    "\n",
    "greeting('Ella')\n",
    "greeting('Ravi')"
   ]
  },
  {
   "cell_type": "markdown",
   "id": "7a74df68",
   "metadata": {},
   "source": [
    "## 🏗️ How a Python Program is Structured"
   ]
  },
  {
   "cell_type": "code",
   "execution_count": null,
   "id": "1378d734",
   "metadata": {},
   "outputs": [],
   "source": [
    "# 🧹 Comments start with a # and help explain your code\n",
    "# You can also use them to temporarily turn off a line\n",
    "\n",
    "# First: import any libraries\n",
    "import math\n",
    "\n",
    "# Then: define any functions you need\n",
    "def square_root(x):\n",
    "    return math.sqrt(x)\n",
    "\n",
    "# Finally: write the main part of your program\n",
    "number = 16\n",
    "result = square_root(number)\n",
    "print('The square root of', number, 'is', result)"
   ]
  },
  {
   "cell_type": "markdown",
   "id": "4f0bf8c1",
   "metadata": {},
   "source": [
    "## ✅ Summary – What You’ve Learned Today\n",
    "- Code is a way of giving instructions to the computer\n",
    "- Python uses **variables** to store information\n",
    "- It has different **data types** like numbers, text, and lists\n",
    "- `if`, `elif`, and `else` let you make decisions\n",
    "- `for` repeats things, and `def` defines reusable functions\n",
    "- A program has a structure: import → define → run\n",
    "- You can run Python in **Google Colab**, right in your browser\n",
    "\n",
    "Next time, we’ll look at how to work with **tables** of data, just like spreadsheets – and how to clean up messy ones!"
   ]
  }
 ],
 "metadata": {
  "kernelspec": {
   "display_name": "Python 3 (ipykernel)",
   "language": "python",
   "name": "python3"
  },
  "language_info": {
   "codemirror_mode": {
    "name": "ipython",
    "version": 3
   },
   "file_extension": ".py",
   "mimetype": "text/x-python",
   "name": "python",
   "nbconvert_exporter": "python",
   "pygments_lexer": "ipython3",
   "version": "3.9.6"
  }
 },
 "nbformat": 4,
 "nbformat_minor": 5
}

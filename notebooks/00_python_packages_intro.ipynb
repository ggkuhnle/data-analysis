{
 "cells": [
  {
   "cell_type": "markdown",
   "id": "b847c8f1",
   "metadata": {},
   "source": [
    "# 📦 Python Packages for Data Analysis\n",
    "\n",
    "In this session, we’ll introduce the **essential Python libraries** for data work. These packages provide tools to handle data, calculate statistics, and create visualisations.\n",
    "\n",
    "**Objectives:**\n",
    "- Understand what a Python package is\n",
    "- Learn what each core package does: `pandas`, `numpy`, `matplotlib`, `seaborn`, `scipy`, `statsmodels`\n",
    "- Try simple examples from each"
   ]
  },
  {
   "cell_type": "markdown",
   "id": "4fd7d3d1",
   "metadata": {},
   "source": [
    "## 📚 What Is a Package?"
   ]
  },
  {
   "cell_type": "code",
   "execution_count": null,
   "id": "6f29e148",
   "metadata": {},
   "outputs": [],
   "source": [
    "# Python comes with basic commands, but packages add superpowers!\n",
    "# You 'import' them to use their tools\n",
    "\n",
    "import math\n",
    "print(math.sqrt(16))  # square root function from the math package"
   ]
  },
  {
   "cell_type": "markdown",
   "id": "805e6ba3",
   "metadata": {},
   "source": [
    "## 🐼 `pandas` – For Tables and DataFrames"
   ]
  },
  {
   "cell_type": "code",
   "execution_count": null,
   "id": "dcf250f3",
   "metadata": {},
   "outputs": [],
   "source": [
    "import pandas as pd\n",
    "\n",
    "data = {'Name': ['Hugo', 'Fiona'], 'Weight_kg': [1500, 1400]}\n",
    "df = pd.DataFrame(data)\n",
    "df"
   ]
  },
  {
   "cell_type": "markdown",
   "id": "f2f11d3a",
   "metadata": {},
   "source": [
    "## 🔢 `numpy` – For Numbers and Arrays"
   ]
  },
  {
   "cell_type": "code",
   "execution_count": null,
   "id": "2196f367",
   "metadata": {},
   "outputs": [],
   "source": [
    "import numpy as np\n",
    "\n",
    "weights = np.array([1500, 1400, 1450])\n",
    "print('Average weight:', np.mean(weights))"
   ]
  },
  {
   "cell_type": "markdown",
   "id": "61d66beb",
   "metadata": {},
   "source": [
    "## 📈 `matplotlib` – For Custom Plots"
   ]
  },
  {
   "cell_type": "code",
   "execution_count": null,
   "id": "46c48ef5",
   "metadata": {},
   "outputs": [],
   "source": [
    "import matplotlib.pyplot as plt\n",
    "\n",
    "plt.plot([1, 2, 3], [3, 2, 5])\n",
    "plt.title('A Simple Line Plot')\n",
    "plt.show()"
   ]
  },
  {
   "cell_type": "markdown",
   "id": "a41ab023",
   "metadata": {},
   "source": [
    "## 🌊 `seaborn` – For Beautiful Plots"
   ]
  },
  {
   "cell_type": "code",
   "execution_count": null,
   "id": "78dcbae2",
   "metadata": {},
   "outputs": [],
   "source": [
    "import seaborn as sns\n",
    "sns.set(style='whitegrid')\n",
    "\n",
    "sns.barplot(data=df, x='Name', y='Weight_kg')\n",
    "plt.title('Hippo Weights')\n",
    "plt.show()"
   ]
  },
  {
   "cell_type": "markdown",
   "id": "301b92a7",
   "metadata": {},
   "source": [
    "## 🧪 `scipy` – For Statistical Tests"
   ]
  },
  {
   "cell_type": "code",
   "execution_count": null,
   "id": "fda77d06",
   "metadata": {},
   "outputs": [],
   "source": [
    "from scipy import stats\n",
    "\n",
    "group1 = [1500, 1400, 1450]\n",
    "group2 = [1350, 1420, 1380]\n",
    "\n",
    "t_stat, p_value = stats.ttest_ind(group1, group2)\n",
    "print(f'T-test result: t = {t_stat:.2f}, p = {p_value:.3f}')"
   ]
  },
  {
   "cell_type": "markdown",
   "id": "aa41be99",
   "metadata": {},
   "source": [
    "## 📉 `statsmodels` – For Regression and ANOVA"
   ]
  },
  {
   "cell_type": "code",
   "execution_count": null,
   "id": "48c1b60e",
   "metadata": {},
   "outputs": [],
   "source": [
    "import statsmodels.formula.api as smf\n",
    "\n",
    "df = pd.DataFrame({\n",
    "    'Height_cm': [150, 152, 155, 160, 165],\n",
    "    'Weight_kg': [1400, 1450, 1500, 1550, 1600]\n",
    "})\n",
    "\n",
    "model = smf.ols('Weight_kg ~ Height_cm', data=df).fit()\n",
    "print(model.summary())"
   ]
  },
  {
   "cell_type": "markdown",
   "id": "b4a7f76b",
   "metadata": {},
   "source": [
    "## ✅ Summary – What You Learned\n",
    "- `pandas`: work with tables (DataFrames)\n",
    "- `numpy`: efficient maths with arrays\n",
    "- `matplotlib`: create basic plots\n",
    "- `seaborn`: beautiful, statistical plots\n",
    "- `scipy`: basic statistics and tests\n",
    "- `statsmodels`: powerful tools for models and regressions\n",
    "\n",
    "Next session: time to design and explore your own mini project!"
   ]
  }
 ],
 "metadata": {},
 "nbformat": 4,
 "nbformat_minor": 5
}
